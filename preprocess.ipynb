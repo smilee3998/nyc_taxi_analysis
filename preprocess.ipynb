{
 "cells": [
  {
   "cell_type": "code",
   "execution_count": null,
   "metadata": {},
   "outputs": [],
   "source": [
    "%load_ext autoreload\n",
    "%autoreload 2\n",
    "\n",
    "import pandas as pd\n",
    "from pathlib import Path\n",
    "from datetime import date\n",
    "\n",
    "import utils"
   ]
  },
  {
   "cell_type": "markdown",
   "metadata": {},
   "source": [
    "# Preprocessing 2022_Yellow_Taxi_Trip_Data"
   ]
  },
  {
   "cell_type": "code",
   "execution_count": null,
   "metadata": {},
   "outputs": [],
   "source": [
    "# download raw csv from https://data.cityofnewyork.us/Transportation/2022-Yellow-Taxi-Trip-Data/qp3b-zxtp/explore/query/SELECT%20%60tpep_pickup_datetime%60%2C%20%60passenger_count%60/page/filter\n",
    "df_2022_path = Path(\"data/2022_Yellow_Taxi_Trip_Data.csv\")\n",
    "df_2022 = utils.load_raw_csv(df_2022_path)\n",
    "df_2022"
   ]
  },
  {
   "cell_type": "code",
   "execution_count": null,
   "metadata": {},
   "outputs": [],
   "source": [
    "df_2022 = utils.group_data_by_min(df_2022, minute=60)\n",
    "# data cleaning to remove the day that don't have data\n",
    "df_2022 = df_2022[~df_2022.tpep_pickup_datetime.dt.date.isin((date(2022, 9, 18),))]\n",
    "\n",
    "df_2022.to_csv(df_2022_path.with_stem(df_2022_path.stem + \"_60min\"))\n",
    "df_2022"
   ]
  },
  {
   "cell_type": "code",
   "execution_count": null,
   "metadata": {},
   "outputs": [],
   "source": [
    "df_2022_max_count = utils.select_max_in_one_day(df_2022)\n",
    "df_2022_max_count.to_csv(df_2022_path.with_stem(df_2022_path.stem + \"_max_count\"))\n",
    "df_2022_max_count"
   ]
  },
  {
   "cell_type": "markdown",
   "metadata": {},
   "source": [
    "# Preprocessing 2023_Yellow_Taxi_Trip_Data"
   ]
  },
  {
   "cell_type": "code",
   "execution_count": null,
   "metadata": {},
   "outputs": [],
   "source": [
    "# Download from https://data.cityofnewyork.us/Transportation/2023-Yellow-Taxi-Trip-Data/4b4i-vvec/explore/query/SELECT%20%60tpep_pickup_datetime%60%2C%20%60passenger_count%60/page/filter\n",
    "df_2023_path = Path(\"data/2023_Yellow_Taxi_Trip_Data.csv\")\n",
    "df_2023 = utils.load_raw_csv(df_2023_path)\n",
    "df_2023"
   ]
  },
  {
   "cell_type": "code",
   "execution_count": null,
   "metadata": {},
   "outputs": [],
   "source": [
    "df_2023 = utils.group_data_by_min(df_2023, minute=60)\n",
    "\n",
    "# data cleaning to remove the days that don't have data or missing data\n",
    "df_2023 = df_2023[~df_2023.tpep_pickup_datetime.dt.date.isin(((\n",
    "    date(2023,9,21), date(2023,9,22), date(2023,9,23), date(2023,9,24), date(2023,12,31))))]\n",
    "\n",
    "\n",
    "df_2023.to_csv(df_2023_path.with_stem(df_2023_path.stem + \"_60min\"), index=False)\n",
    "df_2023"
   ]
  },
  {
   "cell_type": "code",
   "execution_count": null,
   "metadata": {},
   "outputs": [],
   "source": [
    "df_2023_max_count = utils.select_max_in_one_day(df_2023)\n",
    "df_2023_max_count.to_csv(df_2023_path.with_stem(df_2023_path.stem + \"_max_count\"), index=False)\n",
    "df_2023_max_count"
   ]
  },
  {
   "cell_type": "code",
   "execution_count": null,
   "metadata": {},
   "outputs": [],
   "source": [
    "df_max_count = pd.concat([df_2022_max_count, df_2023_max_count])\n",
    "df_max_count.to_csv(\"data/merged_max_count.csv\")\n",
    "df_max_count"
   ]
  },
  {
   "cell_type": "code",
   "execution_count": null,
   "metadata": {},
   "outputs": [],
   "source": [
    "utils.plot_data(df_max_count)"
   ]
  }
 ],
 "metadata": {
  "kernelspec": {
   "display_name": ".venv",
   "language": "python",
   "name": "python3"
  },
  "language_info": {
   "codemirror_mode": {
    "name": "ipython",
    "version": 3
   },
   "file_extension": ".py",
   "mimetype": "text/x-python",
   "name": "python",
   "nbconvert_exporter": "python",
   "pygments_lexer": "ipython3",
   "version": "3.12.7"
  }
 },
 "nbformat": 4,
 "nbformat_minor": 2
}
